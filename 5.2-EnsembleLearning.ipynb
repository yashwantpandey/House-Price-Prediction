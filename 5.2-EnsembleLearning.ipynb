{
 "cells": [
  {
   "cell_type": "code",
   "execution_count": 5,
   "id": "6bffb48e-4bad-4a00-8986-6c2b1844be09",
   "metadata": {
    "scrolled": true
   },
   "outputs": [
    {
     "name": "stdout",
     "output_type": "stream",
     "text": [
      "Mean Absolute Error (MAE): 1.7306658251846434\n",
      "Mean Squared Error (MSE): 5.955971510511089\n",
      "Root Mean Squared Error (RMSE): 2.4404859168843998\n",
      "R-Squared (R²): 0.91457788981086\n"
     ]
    }
   ],
   "source": [
    "import pandas as pd\n",
    "import numpy as np\n",
    "import matplotlib.pyplot as plt\n",
    "import seaborn as sns\n",
    "from sklearn.model_selection import train_test_split\n",
    "from sklearn.metrics import mean_absolute_error, mean_squared_error, r2_score\n",
    "from sklearn.ensemble import RandomForestRegressor, ExtraTreesRegressor\n",
    "from xgboost import XGBRegressor\n",
    "from sklearn.linear_model import Ridge\n",
    "from sklearn.preprocessing import MinMaxScaler\n",
    "\n",
    "# Load the dataset\n",
    "data = pd.read_csv(\"Boston House Prices Dataset.csv\")\n",
    "\n",
    "# Handling Outliers\n",
    "def cap_outliers(df, column):\n",
    "    Q1 = df[column].quantile(0.25)\n",
    "    Q3 = df[column].quantile(0.75)\n",
    "    IQR = Q3 - Q1\n",
    "    lower_bound = Q1 - 1.5 * IQR\n",
    "    upper_bound = Q3 + 1.5 * IQR\n",
    "    df[column] = np.where(df[column] > upper_bound, upper_bound, df[column])\n",
    "    df[column] = np.where(df[column] < lower_bound, lower_bound, df[column])\n",
    "\n",
    "for column in ['CRIM', 'ZN', 'INDUS', 'NOX', 'RM', 'AGE', 'DIS', 'RAD', 'TAX', 'PTRATIO', 'B', 'LSTAT', 'MEDV']:\n",
    "    cap_outliers(data, column)\n",
    "\n",
    "# Feature Scaling - Normalization:\n",
    "X = data.drop(columns=['MEDV'])\n",
    "y = data['MEDV']\n",
    "scaler = MinMaxScaler()\n",
    "X_normalized = scaler.fit_transform(X)\n",
    "data_normalized = pd.DataFrame(X_normalized, columns=X.columns)\n",
    "data_normalized['MEDV'] = y\n",
    "\n",
    "# Feature Selection:\n",
    "selected_features = ['RM', 'PTRATIO', 'LSTAT', 'NOX', 'CRIM', 'TAX', 'INDUS']\n",
    "X = data[selected_features]\n",
    "y = data['MEDV']\n",
    "\n",
    "# Split the Dataset into Training and Test Sets:\n",
    "X_train, X_test, y_train, y_test = train_test_split(X, y, test_size=0.2, random_state=52)\n",
    "\n",
    "# Define Base Models for Stacking:\n",
    "rf_model = RandomForestRegressor(n_estimators=200, max_depth=12, min_samples_split=4, min_samples_leaf=2, max_features='sqrt', bootstrap=True, random_state=52)\n",
    "\n",
    "xgb_model = XGBRegressor(n_estimators=200, learning_rate=0.05, max_depth=4, subsample=0.85, colsample_bytree=0.8, random_state=52)\n",
    "\n",
    "extra_trees_model = ExtraTreesRegressor(n_estimators=200, max_depth=12, min_samples_split=4, min_samples_leaf=2, random_state=52)\n",
    "\n",
    "# Train base models\n",
    "rf_model.fit(X_train, y_train)\n",
    "xgb_model.fit(X_train, y_train)\n",
    "extra_trees_model.fit(X_train, y_train)\n",
    "\n",
    "# Get predictions from the base models:\n",
    "rf_preds_train = rf_model.predict(X_train)\n",
    "xgb_preds_train = xgb_model.predict(X_train)\n",
    "extra_trees_preds_train = extra_trees_model.predict(X_train)\n",
    "train_preds = np.column_stack((rf_preds_train, xgb_preds_train, extra_trees_preds_train))\n",
    "\n",
    "# Train the Meta-Model (Ridge Regression)\n",
    "meta_model = Ridge(alpha=1.0)\n",
    "meta_model.fit(train_preds, y_train)\n",
    "\n",
    "# Make Final Predictions:\n",
    "rf_preds_test = rf_model.predict(X_test)\n",
    "xgb_preds_test = xgb_model.predict(X_test)\n",
    "extra_trees_preds_test = extra_trees_model.predict(X_test)\n",
    "test_preds = np.column_stack((rf_preds_test, xgb_preds_test, extra_trees_preds_test))\n",
    "final_preds = meta_model.predict(test_preds)\n",
    "\n",
    "# Evaluate performance\n",
    "mae = mean_absolute_error(y_test, final_preds)\n",
    "mse = mean_squared_error(y_test, final_preds)\n",
    "rmse = np.sqrt(mse)\n",
    "r2 = r2_score(y_test, final_preds)\n",
    "\n",
    "print(f\"Mean Absolute Error (MAE): {mae}\")\n",
    "print(f\"Mean Squared Error (MSE): {mse}\")\n",
    "print(f\"Root Mean Squared Error (RMSE): {rmse}\")\n",
    "print(f\"R-Squared (R²): {r2}\")\n"
   ]
  },
  {
   "cell_type": "code",
   "execution_count": null,
   "id": "a182a61a-f1e4-4e8f-a7eb-011022189e29",
   "metadata": {},
   "outputs": [],
   "source": []
  }
 ],
 "metadata": {
  "kernelspec": {
   "display_name": "Python 3 (ipykernel)",
   "language": "python",
   "name": "python3"
  },
  "language_info": {
   "codemirror_mode": {
    "name": "ipython",
    "version": 3
   },
   "file_extension": ".py",
   "mimetype": "text/x-python",
   "name": "python",
   "nbconvert_exporter": "python",
   "pygments_lexer": "ipython3",
   "version": "3.12.4"
  }
 },
 "nbformat": 4,
 "nbformat_minor": 5
}
